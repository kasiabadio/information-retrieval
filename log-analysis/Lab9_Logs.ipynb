{
 "cells": [
  {
   "cell_type": "code",
   "execution_count": 148,
   "metadata": {
    "tags": []
   },
   "outputs": [],
   "source": [
    "%matplotlib inline\n",
    "import numpy as np\n",
    "import matplotlib.pyplot as plt\n",
    "import datetime"
   ]
  },
  {
   "cell_type": "markdown",
   "metadata": {},
   "source": [
    "1) Log file is loaded"
   ]
  },
  {
   "cell_type": "code",
   "execution_count": 149,
   "metadata": {},
   "outputs": [
    {
     "name": "stdout",
     "output_type": "stream",
     "text": [
      "156.15.13.173 [01/Jan/2018:11:13:49 +0100] \"GET AddProduct.html HTTP/1.0\" 200 2356\n",
      "176.247.135.49 [01/Jan/2018:11:18:07 +0100] \"GET Shop.html HTTP/1.0\" 200 7466\n",
      "176.247.135.49 [01/Jan/2018:11:19:05 +0100] \"GET AddProduct.html HTTP/1.0\" 200 2356\n"
     ]
    }
   ],
   "source": [
    "file = open(\"log.txt\", \"r\") \n",
    "lines = file.readlines()\n",
    "for l in range(3): print(lines[l][:-1])"
   ]
  },
  {
   "cell_type": "markdown",
   "metadata": {},
   "source": [
    "2) Cass \"Request\" parses and keeps data of a single requests. Complete the TODO, where a given \"line\" (string) should be parsed in order to dervie the ip of the host making the request, time of the request (in seconds), and target page (name)."
   ]
  },
  {
   "cell_type": "code",
   "execution_count": 150,
   "metadata": {},
   "outputs": [],
   "source": [
    "class Request:\n",
    "    def __init__(self, line):\n",
    "        splitted_line = line.split(' ')\n",
    "        ip_retrieved = splitted_line[0]\n",
    "        time_date_retrieved = splitted_line[1]\n",
    "        time_retrieved = time_date_retrieved.split(':')\n",
    "        total_seconds = int(time_retrieved[1])*60*60 + int(time_retrieved[2])*60 + int(time_retrieved[3])\n",
    "        \n",
    "        self.ip = ip_retrieved\n",
    "        self.time = total_seconds\n",
    "        self.page = splitted_line[4]\n",
    "        \n",
    "    def __repr__(self):\n",
    "        return self.ip + \"     \" +  str(datetime.timedelta(seconds=self.time)) + \" -> \" + self.page\n"
   ]
  },
  {
   "cell_type": "markdown",
   "metadata": {},
   "source": [
    "3) Each line of log.txt is parsed and the Request objects are added to the list"
   ]
  },
  {
   "cell_type": "code",
   "execution_count": 151,
   "metadata": {},
   "outputs": [
    {
     "name": "stdout",
     "output_type": "stream",
     "text": [
      "156.15.13.173     11:13:49 -> AddProduct.html\n",
      "176.247.135.49     11:18:07 -> Shop.html\n",
      "176.247.135.49     11:19:05 -> AddProduct.html\n",
      "176.247.135.49     11:29:05 -> Summary.html\n",
      "69.84.30.199     11:43:59 -> Shop.html\n",
      "69.84.30.199     11:45:16 -> AddProduct.html\n",
      "57.116.45.120     11:46:45 -> AddProduct.html\n",
      "69.84.30.199     11:50:36 -> Summary.html\n",
      "69.84.30.199     11:52:38 -> Payment.html\n",
      "26.19.183.202     11:53:11 -> AddProduct.html\n"
     ]
    }
   ],
   "source": [
    "reqs = [Request(line) for line in lines]\n",
    "for l in range(10): print(reqs[l]) \n"
   ]
  },
  {
   "cell_type": "markdown",
   "metadata": {},
   "source": [
    "# Exercise"
   ]
  },
  {
   "cell_type": "markdown",
   "metadata": {},
   "source": [
    "Your task is to analyze the log file. You should indentify the users and sessions. Then, compute the following: <br>\n",
    "3.1) the number of sessions (should be 1000 :) ), <br>\n",
    "3.2) the number of users, <br>\n",
    "3.3) the average number of sessions per one user <br>\n",
    "3.4) use the distribution plot to visualize the sessions' lengths (minutes);  <br>\n",
    "3.5) use the distribution plot to visualize the sessions' lengths (the number of requests) <br>\n",
    "3.6) use the distribution plot to visualize sessions' starting times (hours). <br>\n",
    "3.7) which web page is the most common entry point?; for each page plot the number of times it has been an entry page,  <br>\n",
    "3.8) which web page is the most common departure point?; for each page plot the number of times the user stopped a session while being on this page, <br>\n",
    "3.9) for each page plot the average time the user stayed on this page <br>\n",
    "3.10) print the fist 10 sessions (paths). <br>\n",
    "\n",
    "You may find the following classes helpful and data."
   ]
  },
  {
   "cell_type": "code",
   "execution_count": 152,
   "metadata": {},
   "outputs": [],
   "source": [
    "class Session:\n",
    "    def __init__(self):\n",
    "        self.startTime = 0\n",
    "        self.stopTime = 0\n",
    "        self.requests = []\n",
    "        \n",
    "    def __repr__(self):\n",
    "        print(\"SESSION\")\n",
    "        print(self.startTime)\n",
    "        print(self.stopTime)\n",
    "        STR = \"\"\n",
    "        for r in self.requests:\n",
    "            print(r)\n",
    "            STR += (\"  \" + r.page + \"    \" + str(datetime.timedelta(seconds=r.time)) + \"\\n\")\n",
    "        return STR\n",
    "\n",
    "class Computer:\n",
    "    def __init__(self):\n",
    "        self.ip = []\n",
    "        self.requests = []\n",
    "        self.sessions = []\n",
    "    def __repr__(self):\n",
    "        return self.ip\n",
    "\n",
    "PAGES = [\"Shop.html\", \"AddProduct.html\", \"Summary.html\", \"Payment.html\",\"About.html\", \"Contact.html\"]\n",
    "\n",
    "LINKS = [[1, 4],\n",
    "         [2,4],\n",
    "         [3],\n",
    "         [],\n",
    "         [1,5],\n",
    "         []]"
   ]
  },
  {
   "cell_type": "code",
   "execution_count": 153,
   "metadata": {
    "tags": []
   },
   "outputs": [
    {
     "name": "stdout",
     "output_type": "stream",
     "text": [
      "Number of users:  391\n",
      "Number of sessions:  1018\n"
     ]
    }
   ],
   "source": [
    "# 3.2) compute number of users\n",
    "users = {}\n",
    "for req in reqs:\n",
    "    if req.ip not in users:\n",
    "        users[req.ip] = Computer()\n",
    "        users[req.ip].ip = req.ip          # set ip to the computer\n",
    "        users[req.ip].requests.append(req) # append request to sessions\n",
    "    else: \n",
    "        users[req.ip].requests.append(req) # append request to sessions\n",
    "        \n",
    "print(\"Number of users: \", len(users))\n",
    "\n",
    "# 3.1) compute number of sessions\n",
    "threshold = 600\n",
    "all_sessions = []\n",
    "all_sessions_length = 0\n",
    "for user, comp in users.items():\n",
    "  \n",
    "  session = Session() # create new session\n",
    "  session.requests.append(comp.requests[0])\n",
    "  session.startTime = comp.requests[0].time\n",
    "  session.endTime = comp.requests[0].time\n",
    "  \n",
    "  lastPageID = 0\n",
    "  \n",
    "  for request in comp.requests[1:]: # iterate through all requests \n",
    "    \n",
    "    if session.startTime + threshold >= request.time: # if request belongs to session\n",
    "      \n",
    "      currentPageID = PAGES.index(request.page)\n",
    "      \n",
    "      if currentPageID in LINKS[lastPageID]: # last page and current page are linked\n",
    "        session.endTime = request.time \n",
    "        session.requests.append(request)\n",
    "        lastPageID = currentPageID\n",
    "        \n",
    "      else: # last page and current page are not linked\n",
    "        all_sessions.append(session)\n",
    "        \n",
    "        session = Session()\n",
    "        session.startTime = request.time\n",
    "        session.endTime = request.time\n",
    "        session.requests.append(request)\n",
    "      \n",
    "    else: \n",
    "        all_sessions.append(session) # append session to all_sessions\n",
    "        \n",
    "        session = Session() # create new session\n",
    "        session.startTime = request.time\n",
    "        session.endTime = request.time  # set start time to 0 and end time to 0+request.time\n",
    "        session.requests.append(request)\n",
    "        lastPageID = PAGES.index(request.page)\n",
    "        \n",
    "\n",
    "print(\"Number of sessions: \", len(all_sessions))"
   ]
  },
  {
   "cell_type": "code",
   "execution_count": 154,
   "metadata": {},
   "outputs": [
    {
     "name": "stdout",
     "output_type": "stream",
     "text": [
      "Average number of sessions per user:  2.6035805626598467\n"
     ]
    }
   ],
   "source": [
    "# 3.3) the average number of sessions per one user\n",
    "print(\"Average number of sessions per user: \", float(len(all_sessions) / len(users)))"
   ]
  },
  {
   "cell_type": "code",
   "execution_count": 155,
   "metadata": {},
   "outputs": [
    {
     "data": {
      "text/plain": [
       "[]"
      ]
     },
     "execution_count": 155,
     "metadata": {},
     "output_type": "execute_result"
    },
    {
     "data": {
      "image/png": "[encoded data removed]",
      "text/plain": [
       "<Figure size 432x288 with 1 Axes>"
      ]
     },
     "metadata": {
      "needs_background": "light"
     },
     "output_type": "display_data"
    }
   ],
   "source": [
    "# 3.4)  use the distribution plot to visualize the sessions' lengths (minutes)\n",
    "sessions_lengths_minutes = []\n",
    "for session in all_sessions:\n",
    "    sessions_lengths_minutes.append((session.endTime - session.startTime) / 60)\n",
    "\n",
    "\n",
    "plt.hist(sessions_lengths_minutes, 20)\n",
    "plt.plot()\n"
   ]
  },
  {
   "cell_type": "code",
   "execution_count": 156,
   "metadata": {},
   "outputs": [
    {
     "data": {
      "text/plain": [
       "[]"
      ]
     },
     "execution_count": 156,
     "metadata": {},
     "output_type": "execute_result"
    },
    {
     "data": {
      "image/png": "[encoded data removed]",
      "text/plain": [
       "<Figure size 432x288 with 1 Axes>"
      ]
     },
     "metadata": {
      "needs_background": "light"
     },
     "output_type": "display_data"
    }
   ],
   "source": [
    "#3.5) use the distribution plot to visualize the sessions' lengths (the number of requests) \n",
    "sessions_lengths = []\n",
    "for session in all_sessions:\n",
    "    sessions_lengths.append(len(session.requests))\n",
    "\n",
    "plt.hist(sessions_lengths, 50)\n",
    "plt.plot()\n",
    "\n"
   ]
  },
  {
   "cell_type": "code",
   "execution_count": 157,
   "metadata": {},
   "outputs": [
    {
     "data": {
      "text/plain": [
       "[]"
      ]
     },
     "execution_count": 157,
     "metadata": {},
     "output_type": "execute_result"
    },
    {
     "data": {
      "image/png": "[encoded data removed]",
      "text/plain": [
       "<Figure size 432x288 with 1 Axes>"
      ]
     },
     "metadata": {
      "needs_background": "light"
     },
     "output_type": "display_data"
    }
   ],
   "source": [
    "#3.6) use the distribution plot to visualize sessions' starting times (hours). <br>\n",
    "sessions_starting_times = []\n",
    "for session in all_sessions:\n",
    "    sessions_starting_times.append(session.startTime / 3600)\n",
    "\n",
    "plt.hist(sessions_starting_times, 20)\n",
    "plt.plot()\n"
   ]
  },
  {
   "cell_type": "code",
   "execution_count": 158,
   "metadata": {},
   "outputs": [
    {
     "name": "stdout",
     "output_type": "stream",
     "text": [
      "{'AddProduct.html': 248, 'Shop.html': 504, 'Summary.html': 96, 'Payment.html': 75, 'Contact.html': 79, 'About.html': 10}\n"
     ]
    },
    {
     "data": {
      "text/plain": [
       "(array([ 0,  5, 10, 15, 20, 25]),\n",
       " [Text(0, 0, 'AddProduct.html'),\n",
       "  Text(5, 0, 'Shop.html'),\n",
       "  Text(10, 0, 'Summary.html'),\n",
       "  Text(15, 0, 'Payment.html'),\n",
       "  Text(20, 0, 'Contact.html'),\n",
       "  Text(25, 0, 'About.html')])"
      ]
     },
     "execution_count": 158,
     "metadata": {},
     "output_type": "execute_result"
    },
    {
     "data": {
      "image/png": "[encoded data removed]",
      "text/plain": [
       "<Figure size 432x288 with 1 Axes>"
      ]
     },
     "metadata": {
      "needs_background": "light"
     },
     "output_type": "display_data"
    }
   ],
   "source": [
    "#3.7) which web page is the most common entry point?; for each page plot the number of times it has been an entry page,  <br>\n",
    "sessions_entry_points = {}\n",
    "for session in all_sessions:\n",
    "    if session.requests[0].page not in sessions_entry_points:\n",
    "        sessions_entry_points[session.requests[0].page] = 0\n",
    "    else:\n",
    "        sessions_entry_points[session.requests[0].page] += 1\n",
    "\n",
    "print(sessions_entry_points)\n",
    "x = (range(len(sessions_entry_points)))\n",
    "plt.bar([5*i for i in x], list(sessions_entry_points.values()), tick_label=list(sessions_entry_points.keys()), width=0.8)\n",
    "plt.xticks(rotation=45)"
   ]
  },
  {
   "cell_type": "code",
   "execution_count": 159,
   "metadata": {},
   "outputs": [
    {
     "name": "stdout",
     "output_type": "stream",
     "text": [
      "{'AddProduct.html': 319, 'Payment.html': 163, 'Summary.html': 160, 'About.html': 216, 'Contact.html': 121, 'Shop.html': 33}\n"
     ]
    },
    {
     "data": {
      "text/plain": [
       "(array([ 0,  5, 10, 15, 20, 25]),\n",
       " [Text(0, 0, 'AddProduct.html'),\n",
       "  Text(5, 0, 'Payment.html'),\n",
       "  Text(10, 0, 'Summary.html'),\n",
       "  Text(15, 0, 'About.html'),\n",
       "  Text(20, 0, 'Contact.html'),\n",
       "  Text(25, 0, 'Shop.html')])"
      ]
     },
     "execution_count": 159,
     "metadata": {},
     "output_type": "execute_result"
    },
    {
     "data": {
      "image/png": "[encoded data removed]",
      "text/plain": [
       "<Figure size 432x288 with 1 Axes>"
      ]
     },
     "metadata": {
      "needs_background": "light"
     },
     "output_type": "display_data"
    }
   ],
   "source": [
    "#3.8) which web page is the most common departure point?; for each page plot the number of times the user stopped a session while being on this page, <br>\n",
    "sessions_departure_points = {}\n",
    "for session in all_sessions:\n",
    "    if session.requests[-1].page not in sessions_departure_points:\n",
    "        sessions_departure_points[session.requests[-1].page] = 0\n",
    "    else:\n",
    "        sessions_departure_points[session.requests[-1].page] += 1\n",
    "\n",
    "print(sessions_departure_points)\n",
    "x = (range(len(sessions_departure_points)))\n",
    "plt.bar([5*i for i in x], list(sessions_departure_points.values()), tick_label=list(sessions_departure_points.keys()), width=0.8)\n",
    "plt.xticks(rotation=45)"
   ]
  },
  {
   "cell_type": "code",
   "execution_count": 162,
   "metadata": {},
   "outputs": [
    {
     "name": "stdout",
     "output_type": "stream",
     "text": [
      "{'AddProduct.html': 44342671, 'Shop.html': 42117013, 'Summary.html': 20855193, 'Payment.html': 16571814, 'About.html': 20533134, 'Contact.html': 12307714}\n",
      "{'AddProduct.html': 61078.059228650134, 'Shop.html': 61039.14927536232, 'Summary.html': 61519.74336283186, 'Payment.html': 61835.12686567164, 'About.html': 61110.517857142855, 'Contact.html': 61538.57}\n"
     ]
    },
    {
     "data": {
      "text/plain": [
       "(array([ 0,  5, 10, 15, 20, 25]),\n",
       " [Text(0, 0, 'AddProduct.html'),\n",
       "  Text(5, 0, 'Shop.html'),\n",
       "  Text(10, 0, 'Summary.html'),\n",
       "  Text(15, 0, 'Payment.html'),\n",
       "  Text(20, 0, 'About.html'),\n",
       "  Text(25, 0, 'Contact.html')])"
      ]
     },
     "execution_count": 162,
     "metadata": {},
     "output_type": "execute_result"
    },
    {
     "data": {
      "image/png": "[encoded data removed]",
      "text/plain": [
       "<Figure size 432x288 with 1 Axes>"
      ]
     },
     "metadata": {
      "needs_background": "light"
     },
     "output_type": "display_data"
    }
   ],
   "source": [
    "pages = {}\n",
    "avg_time_pages = {}\n",
    "#3.9) for each page plot the average time the user stayed on this page <br>\n",
    "for el in reqs:\n",
    "    if el.page in pages:\n",
    "        pages[el.page].append(el)\n",
    "        avg_time_pages[el.page] += el.time\n",
    "    else:\n",
    "        pages[el.page] = [el]\n",
    "        avg_time_pages[el.page] = el.time\n",
    "\n",
    "print(avg_time_pages)\n",
    "for key, value in avg_time_pages.items():\n",
    "    avg_time_pages[key] /= len(pages[key])\n",
    "\n",
    "print(avg_time_pages)\n",
    "x = (range(len(avg_time_pages)))\n",
    "plt.bar([5*i for i in x], list(avg_time_pages.values()), tick_label=list(avg_time_pages.keys()), width=0.8)\n",
    "plt.xticks(rotation=45)"
   ]
  },
  {
   "cell_type": "code",
   "execution_count": 191,
   "metadata": {},
   "outputs": [
    {
     "name": "stdout",
     "output_type": "stream",
     "text": [
      "Session  1 : AddProduct.html --> \n",
      "\n",
      "Session  2 : Shop.html --> AddProduct.html --> \n",
      "\n",
      "Session  3 : Summary.html --> Payment.html --> \n",
      "\n",
      "Session  4 : Shop.html --> AddProduct.html --> \n",
      "\n",
      "Session  5 : Summary.html --> \n",
      "\n",
      "Session  6 : Shop.html --> AddProduct.html --> Summary.html --> \n",
      "\n",
      "Session  7 : Shop.html --> AddProduct.html --> Summary.html --> Payment.html --> \n",
      "\n",
      "Session  8 : Shop.html --> AddProduct.html --> Summary.html --> Payment.html --> \n",
      "\n",
      "Session  9 : AddProduct.html --> \n",
      "\n",
      "Session  10 : Summary.html --> \n",
      "\n"
     ]
    }
   ],
   "source": [
    "#3.10) print the first 10 sessions (paths). <br>\n",
    "for i, session in enumerate(all_sessions[0:10]):\n",
    "    print(\"Session \", i+1, \":\", end=\" \")\n",
    "    for request in session.requests:\n",
    "        print(request.page + \" -->\", end=\" \")\n",
    "        \n",
    "    print(\"\\n\")\n"
   ]
  }
 ],
 "metadata": {
  "kernelspec": {
   "display_name": "Python 3 (ipykernel)",
   "language": "python",
   "name": "python3"
  },
  "language_info": {
   "codemirror_mode": {
    "name": "ipython",
    "version": 3
   },
   "file_extension": ".py",
   "mimetype": "text/x-python",
   "name": "python",
   "nbconvert_exporter": "python",
   "pygments_lexer": "ipython3",
   "version": "3.9.7"
  }
 },
 "nbformat": 4,
 "nbformat_minor": 4
}
