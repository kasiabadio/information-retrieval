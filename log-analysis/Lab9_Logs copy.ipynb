{
 "cells": [
  {
   "cell_type": "code",
   "execution_count": 57,
   "metadata": {
    "tags": []
   },
   "outputs": [],
   "source": [
    "%matplotlib inline\n",
    "import numpy as np\n",
    "import matplotlib.pyplot as plt\n",
    "import datetime"
   ]
  },
  {
   "cell_type": "markdown",
   "metadata": {},
   "source": [
    "1) Log file is loaded"
   ]
  },
  {
   "cell_type": "code",
   "execution_count": 58,
   "metadata": {},
   "outputs": [
    {
     "name": "stdout",
     "output_type": "stream",
     "text": [
      "156.15.13.173 [01/Jan/2018:11:13:49 +0100] \"GET AddProduct.html HTTP/1.0\" 200 2356\n",
      "176.247.135.49 [01/Jan/2018:11:18:07 +0100] \"GET Shop.html HTTP/1.0\" 200 7466\n",
      "176.247.135.49 [01/Jan/2018:11:19:05 +0100] \"GET AddProduct.html HTTP/1.0\" 200 2356\n"
     ]
    }
   ],
   "source": [
    "file = open(\"log.txt\", \"r\") \n",
    "lines = file.readlines()\n",
    "for l in range(3): print(lines[l][:-1])"
   ]
  },
  {
   "cell_type": "markdown",
   "metadata": {},
   "source": [
    "2) Cass \"Request\" parses and keeps data of a single requests. Complete the TODO, where a given \"line\" (string) should be parsed in order to dervie the ip of the host making the request, time of the request (in seconds), and target page (name)."
   ]
  },
  {
   "cell_type": "code",
   "execution_count": 59,
   "metadata": {},
   "outputs": [],
   "source": [
    "class Request:\n",
    "    def __init__(self, line):\n",
    "        splitted_line = line.split(' ')\n",
    "        ip_retrieved = splitted_line[0]\n",
    "        time_date_retrieved = splitted_line[1]\n",
    "        time_retrieved = time_date_retrieved.split(':')\n",
    "        total_seconds = int(time_retrieved[1])*60*60 + int(time_retrieved[2])*60 + int(time_retrieved[3]) - 1\n",
    "        \n",
    "        self.ip = ip_retrieved\n",
    "        self.time = total_seconds\n",
    "        self.page = splitted_line[4]\n",
    "        \n",
    "    def __repr__(self):\n",
    "        return self.ip + \"     \" +  str(datetime.timedelta(seconds=self.time)) + \" -> \" + self.page\n"
   ]
  },
  {
   "cell_type": "markdown",
   "metadata": {},
   "source": [
    "3) Each line of log.txt is parsed and the Request objects are added to the list"
   ]
  },
  {
   "cell_type": "code",
   "execution_count": 60,
   "metadata": {},
   "outputs": [
    {
     "name": "stdout",
     "output_type": "stream",
     "text": [
      "156.15.13.173     11:13:48 -> AddProduct.html\n",
      "176.247.135.49     11:18:06 -> Shop.html\n",
      "176.247.135.49     11:19:04 -> AddProduct.html\n",
      "176.247.135.49     11:29:04 -> Summary.html\n",
      "69.84.30.199     11:43:58 -> Shop.html\n",
      "69.84.30.199     11:45:15 -> AddProduct.html\n",
      "57.116.45.120     11:46:44 -> AddProduct.html\n",
      "69.84.30.199     11:50:35 -> Summary.html\n",
      "69.84.30.199     11:52:37 -> Payment.html\n",
      "26.19.183.202     11:53:10 -> AddProduct.html\n"
     ]
    }
   ],
   "source": [
    "reqs = [Request(line) for line in lines]\n",
    "for l in range(10): print(reqs[l]) \n"
   ]
  },
  {
   "cell_type": "markdown",
   "metadata": {},
   "source": [
    "# Exercise"
   ]
  },
  {
   "cell_type": "markdown",
   "metadata": {},
   "source": [
    "Your task is to analyze the log file. You should indentify the users and sessions. Then, compute the following: <br>\n",
    "3.1) the number of sessions (should be 1000 :) ), <br>\n",
    "3.2) the number of users, <br>\n",
    "3.3) the average number of sessions per one user <br>\n",
    "3.4) use the distribution plot to visualize the sessions' lengths (minutes);  <br>\n",
    "3.5) use the distribution plot to visualize the sessions' lengths (the number of requests) <br>\n",
    "3.6) use the distribution plot to visualize sessions' starting times (hours). <br>\n",
    "3.7) which web page is the most common entry point?; for each page plot the number of times it has been an entry page,  <br>\n",
    "3.8) which web page is the most common departure point?; for each page plot the number of times the user stopped a session while being on this page, <br>\n",
    "3.9) for each page plot the average time the user stayed on this page <br>\n",
    "3.10) print the fist 10 sessions (paths). <br>\n",
    "\n",
    "You may find the following classes helpful and data."
   ]
  },
  {
   "cell_type": "code",
   "execution_count": 61,
   "metadata": {},
   "outputs": [],
   "source": [
    "class Session:\n",
    "    def __init__(self):\n",
    "        self.startTime = 0\n",
    "        self.stopTime = 0\n",
    "        self.requests = []\n",
    "        \n",
    "    def __repr__(self):\n",
    "        print(\"SESSION\")\n",
    "        print(self.startTime)\n",
    "        print(self.stopTime)\n",
    "        STR = \"\"\n",
    "        for r in self.requests:\n",
    "            print(r)\n",
    "            STR += (\"  \" + r.page + \"    \" + str(datetime.timedelta(seconds=r.time)) + \"\\n\")\n",
    "        return STR\n",
    "\n",
    "class Computer:\n",
    "    def __init__(self):\n",
    "        self.ip = []\n",
    "        self.sessions = []\n",
    "    def __repr__(self):\n",
    "        return self.ip\n",
    "\n",
    "PAGES = [\"Shop.html\", \"AddProduct.html\", \"Summary.html\", \"Payment.html\",\"About.html\", \"Contact.html\"]\n",
    "\n",
    "LINKS = [[1, 4],\n",
    "         [2,4],\n",
    "         [3],\n",
    "         [],\n",
    "         [1,5],\n",
    "         []]"
   ]
  },
  {
   "cell_type": "code",
   "execution_count": 62,
   "metadata": {
    "tags": []
   },
   "outputs": [
    {
     "name": "stdout",
     "output_type": "stream",
     "text": [
      "Number of users:  391\n",
      "Number of sessions:  941\n"
     ]
    }
   ],
   "source": [
    "# 3.2) compute number of users\n",
    "users = {}\n",
    "for req in reqs:\n",
    "    if req.ip not in users:\n",
    "        users[req.ip] = [req]\n",
    "    else:\n",
    "        users[req.ip].append(req)\n",
    "        \n",
    "print(\"Number of users: \", len(users))\n",
    "\n",
    "threshold = 600\n",
    "sessions = [[]]\n",
    "curr_session = 0\n",
    "for user, value_user in users.items():\n",
    "  \n",
    "  # 3.1) compute number of sessions\n",
    "  timestamp = value_user[0].time\n",
    "  \n",
    "  for request in value_user:\n",
    "\n",
    "    if request.time - timestamp < threshold:\n",
    "      sessions[curr_session].append(request)\n",
    "    else:\n",
    "      timestamp = request.time\n",
    "      sessions.append([request])\n",
    "      curr_session += 1\n",
    "\n",
    "print(\"Number of sessions: \", len(sessions))"
   ]
  },
  {
   "cell_type": "code",
   "execution_count": 63,
   "metadata": {},
   "outputs": [
    {
     "name": "stdout",
     "output_type": "stream",
     "text": [
      "Average number of sessions per user:  2.4066496163682864\n"
     ]
    }
   ],
   "source": [
    "# 3.3) the average number of sessions per one user\n",
    "print(\"Average number of sessions per user: \", len(sessions) / len(users))"
   ]
  },
  {
   "cell_type": "code",
   "execution_count": 64,
   "metadata": {},
   "outputs": [
    {
     "data": {
      "text/plain": [
       "[]"
      ]
     },
     "execution_count": 64,
     "metadata": {},
     "output_type": "execute_result"
    },
    {
     "data": {
      "image/png": "[encoded data removed]",
      "text/plain": [
       "<Figure size 432x288 with 1 Axes>"
      ]
     },
     "metadata": {
      "needs_background": "light"
     },
     "output_type": "display_data"
    }
   ],
   "source": [
    "# 3.4)  use the distribution plot to visualize the sessions' lengths (minutes)\n",
    "sessions_lengths_minutes = []\n",
    "for session in sessions:\n",
    "    #print(session[0].time, session[-1].time)\n",
    "    sessions_lengths_minutes.append(session[-1].time - session[0].time / 60)\n",
    "\n",
    "\n",
    "plt.hist(sessions_lengths_minutes, 20)\n",
    "plt.plot()\n"
   ]
  },
  {
   "cell_type": "code",
   "execution_count": 65,
   "metadata": {},
   "outputs": [
    {
     "data": {
      "text/plain": [
       "[]"
      ]
     },
     "execution_count": 65,
     "metadata": {},
     "output_type": "execute_result"
    },
    {
     "data": {
      "image/png": "[encoded data removed]",
      "text/plain": [
       "<Figure size 432x288 with 1 Axes>"
      ]
     },
     "metadata": {
      "needs_background": "light"
     },
     "output_type": "display_data"
    }
   ],
   "source": [
    "#3.5) use the distribution plot to visualize the sessions' lengths (the number of requests) \n",
    "sessions_lengths = []\n",
    "for session in sessions:\n",
    "    sessions_lengths.append(len(session))\n",
    "\n",
    "plt.hist(sessions_lengths, 100)\n",
    "plt.plot()\n",
    "\n"
   ]
  },
  {
   "cell_type": "code",
   "execution_count": 66,
   "metadata": {},
   "outputs": [
    {
     "data": {
      "text/plain": [
       "[]"
      ]
     },
     "execution_count": 66,
     "metadata": {},
     "output_type": "execute_result"
    },
    {
     "data": {
      "image/png": "[encoded data removed]",
      "text/plain": [
       "<Figure size 432x288 with 1 Axes>"
      ]
     },
     "metadata": {
      "needs_background": "light"
     },
     "output_type": "display_data"
    }
   ],
   "source": [
    "#3.6) use the distribution plot to visualize sessions' starting times (hours). <br>\n",
    "sessions_starting_times = []\n",
    "for session in sessions:\n",
    "    sessions_starting_times.append(session[0].time / 3600)\n",
    "\n",
    "plt.hist(sessions_starting_times, 100)\n",
    "plt.plot()\n"
   ]
  },
  {
   "cell_type": "code",
   "execution_count": 67,
   "metadata": {},
   "outputs": [
    {
     "name": "stdout",
     "output_type": "stream",
     "text": [
      "{'AddProduct.html': 219, 'Shop.html': 415, 'Summary.html': 68, 'Payment.html': 90, 'Contact.html': 129, 'About.html': 14}\n",
      "ANSWER: Shop.html\n"
     ]
    }
   ],
   "source": [
    "#3.7) which web page is the most common entry point?; for each page plot the number of times it has been an entry page,  <br>\n",
    "sessions_entry_points = {}\n",
    "for session in sessions:\n",
    "    if session[0].page not in sessions_entry_points:\n",
    "        sessions_entry_points[session[0].page] = 0\n",
    "    else:\n",
    "        sessions_entry_points[session[0].page] += 1\n",
    "\n",
    "print(sessions_entry_points)\n",
    "print(\"ANSWER: Shop.html\")"
   ]
  },
  {
   "cell_type": "code",
   "execution_count": 68,
   "metadata": {},
   "outputs": [
    {
     "name": "stdout",
     "output_type": "stream",
     "text": [
      "{'AddProduct.html': 268, 'Payment.html': 164, 'Summary.html': 137, 'About.html': 216, 'Contact.html': 119, 'Shop.html': 31}\n",
      "ANSWER: AddProduct.html\n"
     ]
    }
   ],
   "source": [
    "#3.8) which web page is the most common departure point?; for each page plot the number of times the user stopped a session while being on this page, <br>\n",
    "sessions_departure_points = {}\n",
    "for session in sessions:\n",
    "    if session[-1].page not in sessions_departure_points:\n",
    "        sessions_departure_points[session[-1].page] = 0\n",
    "    else:\n",
    "        sessions_departure_points[session[-1].page] += 1\n",
    "\n",
    "print(sessions_departure_points)\n",
    "print(\"ANSWER: AddProduct.html\")"
   ]
  },
  {
   "cell_type": "code",
   "execution_count": 69,
   "metadata": {},
   "outputs": [
    {
     "name": "stdout",
     "output_type": "stream",
     "text": [
      "{'AddProduct.html': 44341945, 'Shop.html': 42116323, 'Summary.html': 20854854, 'Payment.html': 16571546, 'About.html': 20532798, 'Contact.html': 12307514}\n",
      "{'AddProduct.html': 61077.059228650134, 'Shop.html': 61038.14927536232, 'Summary.html': 61518.74336283186, 'Payment.html': 61834.12686567164, 'About.html': 61109.517857142855, 'Contact.html': 61537.57}\n"
     ]
    },
    {
     "data": {
      "text/plain": [
       "<BarContainer object of 6 artists>"
      ]
     },
     "execution_count": 69,
     "metadata": {},
     "output_type": "execute_result"
    },
    {
     "data": {
      "image/png": "[encoded data removed]",
      "text/plain": [
       "<Figure size 432x288 with 1 Axes>"
      ]
     },
     "metadata": {
      "needs_background": "light"
     },
     "output_type": "display_data"
    }
   ],
   "source": [
    "pages = {}\n",
    "avg_time_pages = {}\n",
    "#3.9) for each page plot the average time the user stayed on this page <br>\n",
    "for el in reqs:\n",
    "    if el.page in pages:\n",
    "        pages[el.page].append(el)\n",
    "        avg_time_pages[el.page] += el.time\n",
    "    else:\n",
    "        pages[el.page] = [el]\n",
    "        avg_time_pages[el.page] = el.time\n",
    "\n",
    "print(avg_time_pages)\n",
    "for key, value in avg_time_pages.items():\n",
    "    avg_time_pages[key] /= len(pages[key])\n",
    "\n",
    "print(avg_time_pages)\n",
    "plt.bar(range(len(avg_time_pages)), list(avg_time_pages.values()), tick_label=list(avg_time_pages.keys()))"
   ]
  },
  {
   "cell_type": "code",
   "execution_count": 70,
   "metadata": {},
   "outputs": [
    {
     "name": "stdout",
     "output_type": "stream",
     "text": [
      "AddProduct.html->  \n",
      "\n",
      "Shop.html->  AddProduct.html->  \n",
      "\n",
      "Summary.html->  Payment.html->  \n",
      "\n",
      "AddProduct.html->  About.html->  Shop.html->  AddProduct.html->  \n",
      "\n",
      "Summary.html->  \n",
      "\n",
      "Shop.html->  AddProduct.html->  Summary.html->  \n",
      "\n",
      "Payment.html->  Shop.html->  AddProduct.html->  Summary.html->  Payment.html->  \n",
      "\n",
      "Shop.html->  AddProduct.html->  Summary.html->  Payment.html->  \n",
      "\n",
      "Shop.html->  AddProduct.html->  AddProduct.html->  Summary.html->  Payment.html->  \n",
      "\n",
      "AddProduct.html->  Summary.html->  Payment.html->  \n",
      "\n"
     ]
    }
   ],
   "source": [
    "#3.10) print the first 10 sessions (paths). <br>\n",
    "for session in sessions[0:10]:\n",
    "    # print(session)\n",
    "    for page in session:\n",
    "        print(page.page + \"-> \", end= \" \")\n",
    "    print(\"\\n\")"
   ]
  }
 ],
 "metadata": {
  "kernelspec": {
   "display_name": "Python 3 (ipykernel)",
   "language": "python",
   "name": "python3"
  },
  "language_info": {
   "codemirror_mode": {
    "name": "ipython",
    "version": 3
   },
   "file_extension": ".py",
   "mimetype": "text/x-python",
   "name": "python",
   "nbconvert_exporter": "python",
   "pygments_lexer": "ipython3",
   "version": "3.9.7"
  }
 },
 "nbformat": 4,
 "nbformat_minor": 4
}
