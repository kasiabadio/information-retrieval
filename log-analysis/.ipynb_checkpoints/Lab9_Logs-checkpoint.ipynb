{
 "cells": [
  {
   "cell_type": "code",
   "execution_count": 2,
   "metadata": {
    "tags": []
   },
   "outputs": [],
   "source": [
    "%matplotlib inline\n",
    "import numpy as np\n",
    "import matplotlib.pyplot as plt\n",
    "import datetime"
   ]
  },
  {
   "cell_type": "markdown",
   "metadata": {},
   "source": [
    "1) Log file is loaded"
   ]
  },
  {
   "cell_type": "code",
   "execution_count": 3,
   "metadata": {},
   "outputs": [
    {
     "name": "stdout",
     "output_type": "stream",
     "text": [
      "156.15.13.173 [01/Jan/2018:11:13:49 +0100] \"GET AddProduct.html HTTP/1.0\" 200 2356\n",
      "176.247.135.49 [01/Jan/2018:11:18:07 +0100] \"GET Shop.html HTTP/1.0\" 200 7466\n",
      "176.247.135.49 [01/Jan/2018:11:19:05 +0100] \"GET AddProduct.html HTTP/1.0\" 200 2356\n"
     ]
    }
   ],
   "source": [
    "file = open(\"log.txt\", \"r\") \n",
    "lines = file.readlines()\n",
    "for l in range(3): print(lines[l][:-1])"
   ]
  },
  {
   "cell_type": "markdown",
   "metadata": {},
   "source": [
    "2) Cass \"Request\" parses and keeps data of a single requests. Complete the TODO, where a given \"line\" (string) should be parsed in order to dervie the ip of the host making the request, time of the request (in seconds), and target page (name)."
   ]
  },
  {
   "cell_type": "code",
   "execution_count": 4,
   "metadata": {},
   "outputs": [],
   "source": [
    "class Request:\n",
    "    def __init__(self, line):\n",
    "        # TODO DO PARSING HERE\n",
    "        # 156.15.13.173 [01/Jan/2018:11:13:49 +0100] \"GET AddProduct.html HTTP/1.0\" 200 2356\n",
    "        ip_retrieved = line[0:13]\n",
    "        date_retrieved = line[15:26]\n",
    "        time_retrieved = line[27:35]\n",
    "        hours = int(time_retrieved[0:2])\n",
    "        mins = int(time_retrieved[3:5])\n",
    "        secs = int(time_retrieved[6:8])\n",
    "        total_seconds = hours*60*60 + mins*60 + secs\n",
    "        \n",
    "        #self.ip = \"0.0.0.0\"\n",
    "        self.ip = ip_retrieved\n",
    "        # convert hours + minutes + seconds -> total number of seconds\n",
    "        #self.time = 0\n",
    "        self.time = total_seconds\n",
    "        self.page = \"error.html\"\n",
    "        \n",
    "    def __repr__(self):\n",
    "        return self.ip + \"     \" +  str(datetime.timedelta(seconds=self.time)) + \" -> \" + self.page\n"
   ]
  },
  {
   "cell_type": "markdown",
   "metadata": {},
   "source": [
    "3) Each line of log.txt is parsed and the Request objects are added to the list"
   ]
  },
  {
   "cell_type": "code",
   "execution_count": 5,
   "metadata": {},
   "outputs": [
    {
     "ename": "ValueError",
     "evalue": "invalid literal for int() with base 10: ':1'",
     "output_type": "error",
     "traceback": [
      "\u001b[0;31m---------------------------------------------------------------------------\u001b[0m",
      "\u001b[0;31mValueError\u001b[0m                                Traceback (most recent call last)",
      "\u001b[0;32m/tmp/ipykernel_71481/1821130534.py\u001b[0m in \u001b[0;36m<module>\u001b[0;34m\u001b[0m\n\u001b[0;32m----> 1\u001b[0;31m \u001b[0mreqs\u001b[0m \u001b[0;34m=\u001b[0m \u001b[0;34m[\u001b[0m\u001b[0mRequest\u001b[0m\u001b[0;34m(\u001b[0m\u001b[0mline\u001b[0m\u001b[0;34m)\u001b[0m \u001b[0;32mfor\u001b[0m \u001b[0mline\u001b[0m \u001b[0;32min\u001b[0m \u001b[0mlines\u001b[0m\u001b[0;34m]\u001b[0m\u001b[0;34m\u001b[0m\u001b[0;34m\u001b[0m\u001b[0m\n\u001b[0m\u001b[1;32m      2\u001b[0m \u001b[0;32mfor\u001b[0m \u001b[0ml\u001b[0m \u001b[0;32min\u001b[0m \u001b[0mrange\u001b[0m\u001b[0;34m(\u001b[0m\u001b[0;36m10\u001b[0m\u001b[0;34m)\u001b[0m\u001b[0;34m:\u001b[0m \u001b[0mprint\u001b[0m\u001b[0;34m(\u001b[0m\u001b[0mreqs\u001b[0m\u001b[0;34m[\u001b[0m\u001b[0ml\u001b[0m\u001b[0;34m]\u001b[0m\u001b[0;34m)\u001b[0m\u001b[0;34m\u001b[0m\u001b[0;34m\u001b[0m\u001b[0m\n",
      "\u001b[0;32m/tmp/ipykernel_71481/1821130534.py\u001b[0m in \u001b[0;36m<listcomp>\u001b[0;34m(.0)\u001b[0m\n\u001b[0;32m----> 1\u001b[0;31m \u001b[0mreqs\u001b[0m \u001b[0;34m=\u001b[0m \u001b[0;34m[\u001b[0m\u001b[0mRequest\u001b[0m\u001b[0;34m(\u001b[0m\u001b[0mline\u001b[0m\u001b[0;34m)\u001b[0m \u001b[0;32mfor\u001b[0m \u001b[0mline\u001b[0m \u001b[0;32min\u001b[0m \u001b[0mlines\u001b[0m\u001b[0;34m]\u001b[0m\u001b[0;34m\u001b[0m\u001b[0;34m\u001b[0m\u001b[0m\n\u001b[0m\u001b[1;32m      2\u001b[0m \u001b[0;32mfor\u001b[0m \u001b[0ml\u001b[0m \u001b[0;32min\u001b[0m \u001b[0mrange\u001b[0m\u001b[0;34m(\u001b[0m\u001b[0;36m10\u001b[0m\u001b[0;34m)\u001b[0m\u001b[0;34m:\u001b[0m \u001b[0mprint\u001b[0m\u001b[0;34m(\u001b[0m\u001b[0mreqs\u001b[0m\u001b[0;34m[\u001b[0m\u001b[0ml\u001b[0m\u001b[0;34m]\u001b[0m\u001b[0;34m)\u001b[0m\u001b[0;34m\u001b[0m\u001b[0;34m\u001b[0m\u001b[0m\n",
      "\u001b[0;32m/tmp/ipykernel_71481/3048740148.py\u001b[0m in \u001b[0;36m__init__\u001b[0;34m(self, line)\u001b[0m\n\u001b[1;32m      6\u001b[0m         \u001b[0mdate_retrieved\u001b[0m \u001b[0;34m=\u001b[0m \u001b[0mline\u001b[0m\u001b[0;34m[\u001b[0m\u001b[0;36m15\u001b[0m\u001b[0;34m:\u001b[0m\u001b[0;36m26\u001b[0m\u001b[0;34m]\u001b[0m\u001b[0;34m\u001b[0m\u001b[0;34m\u001b[0m\u001b[0m\n\u001b[1;32m      7\u001b[0m         \u001b[0mtime_retrieved\u001b[0m \u001b[0;34m=\u001b[0m \u001b[0mline\u001b[0m\u001b[0;34m[\u001b[0m\u001b[0;36m27\u001b[0m\u001b[0;34m:\u001b[0m\u001b[0;36m35\u001b[0m\u001b[0;34m]\u001b[0m\u001b[0;34m\u001b[0m\u001b[0;34m\u001b[0m\u001b[0m\n\u001b[0;32m----> 8\u001b[0;31m         \u001b[0mhours\u001b[0m \u001b[0;34m=\u001b[0m \u001b[0mint\u001b[0m\u001b[0;34m(\u001b[0m\u001b[0mtime_retrieved\u001b[0m\u001b[0;34m[\u001b[0m\u001b[0;36m0\u001b[0m\u001b[0;34m:\u001b[0m\u001b[0;36m2\u001b[0m\u001b[0;34m]\u001b[0m\u001b[0;34m)\u001b[0m\u001b[0;34m\u001b[0m\u001b[0;34m\u001b[0m\u001b[0m\n\u001b[0m\u001b[1;32m      9\u001b[0m         \u001b[0mmins\u001b[0m \u001b[0;34m=\u001b[0m \u001b[0mint\u001b[0m\u001b[0;34m(\u001b[0m\u001b[0mtime_retrieved\u001b[0m\u001b[0;34m[\u001b[0m\u001b[0;36m3\u001b[0m\u001b[0;34m:\u001b[0m\u001b[0;36m5\u001b[0m\u001b[0;34m]\u001b[0m\u001b[0;34m)\u001b[0m\u001b[0;34m\u001b[0m\u001b[0;34m\u001b[0m\u001b[0m\n\u001b[1;32m     10\u001b[0m         \u001b[0msecs\u001b[0m \u001b[0;34m=\u001b[0m \u001b[0mint\u001b[0m\u001b[0;34m(\u001b[0m\u001b[0mtime_retrieved\u001b[0m\u001b[0;34m[\u001b[0m\u001b[0;36m6\u001b[0m\u001b[0;34m:\u001b[0m\u001b[0;36m8\u001b[0m\u001b[0;34m]\u001b[0m\u001b[0;34m)\u001b[0m\u001b[0;34m\u001b[0m\u001b[0;34m\u001b[0m\u001b[0m\n",
      "\u001b[0;31mValueError\u001b[0m: invalid literal for int() with base 10: ':1'"
     ]
    }
   ],
   "source": [
    "reqs = [Request(line) for line in lines]\n",
    "for l in range(10): print(reqs[l]) \n"
   ]
  },
  {
   "cell_type": "markdown",
   "metadata": {},
   "source": [
    "# Exercise"
   ]
  },
  {
   "cell_type": "markdown",
   "metadata": {},
   "source": [
    "Your task is to analyze the log file. You should indentify the users and sessions. Then, compute the following: <br>\n",
    "3.1) the number of sessions (should be 1000 :) ), <br>\n",
    "3.2) the number of users, <br>\n",
    "3.3) the average number of sessions per one user <br>\n",
    "3.4) use the distribution plot to visualize the sessions' lengths (minutes);  <br>\n",
    "3.5) use the distribution plot to visualize the sessions' lengths (the number of requests) <br>\n",
    "3.6) use the distribution plot to visualize sessions' starting times (hours). <br>\n",
    "3.7) which web page is the most common entry point?; for each page plot the number of times it has been an entry page,  <br>\n",
    "3.8) which web page is the most common departure point?; for each page plot the number of times the user stopped a session while being on this page, <br>\n",
    "3.9) for each page plot the average time the user stayed on this page <br>\n",
    "3.10) print the fist 10 sessions (paths). <br>\n",
    "\n",
    "You may find the following classes helpful and data."
   ]
  },
  {
   "cell_type": "code",
   "execution_count": null,
   "metadata": {},
   "outputs": [],
   "source": [
    "class Session:\n",
    "    def __init__(self):\n",
    "        self.startTime = 0\n",
    "        self.stopTime = 0\n",
    "        self.requests = []\n",
    "        \n",
    "    def __repr__(self):\n",
    "        print(\"SESSION\")\n",
    "        print(self.startTime)\n",
    "        print(self.stopTime)\n",
    "        STR = \"\"\n",
    "        for r in self.requests:\n",
    "            print(r)\n",
    "            STR += (\"  \" + r.page + \"    \" + str(datetime.timedelta(seconds=r.time)) + \"\\n\")\n",
    "        return STR\n",
    "\n",
    "class Computer:\n",
    "    def __init__(self):\n",
    "        self.ip = []\n",
    "        self.sessions = []\n",
    "    def __repr__(self):\n",
    "        return self.ip\n",
    "\n",
    "PAGES = [\"Shop.html\", \"AddProduct.html\", \"Summary.html\", \"Payment.html\",\"About.html\", \"Contact.html\"]\n",
    "\n",
    "LINKS = [[1, 4],\n",
    "         [2,4],\n",
    "         [3],\n",
    "         [],\n",
    "         [1,5],\n",
    "         []]\n",
    "\n",
    "#plot distribution\n",
    "#count, bins, ignored = plt.hist(data, 50, alpha=0.5, normed=True)\n",
    "#plt.plot()\n",
    "\n",
    "#x_axis = np.arange(len(pages))\n",
    "#plt.bar(x_axis, data, align='center', alpha=0.5)\n",
    "#plt.xticks(y_pos, pages, rotation=90)"
   ]
  },
  {
   "cell_type": "code",
   "execution_count": null,
   "metadata": {
    "tags": []
   },
   "outputs": [],
   "source": [
    "# compute sessions\n",
    "sessions = [[]]\n",
    "threshold = 60 \n",
    "timestamp = 0\n",
    "session_index = 0\n",
    "for req in requests:\n",
    "    # less than threshold - append to current session\n",
    "    if (timestamp + req.time) - timestamp < threshold:\n",
    "        sessions[session_index].append(req)\n",
    "    # more than threshold - append to new session\n",
    "    else:\n",
    "        sessions.append([req])\n",
    "        session_index += 1\n",
    "        \n",
    "# print number of sessions \n",
    "print(\"Number of sessions: \", len(sessions))\n",
    "\n",
    "# compute number of users\n",
    "users = {}\n",
    "for req in requests:\n",
    "    if req.ip not in users[req.ip]:\n",
    "        users[req.ip] = [req]\n",
    "    else:\n",
    "        users[req.ip].append(req)"
   ]
  }
 ],
 "metadata": {
  "kernelspec": {
   "display_name": "Python 3 (ipykernel)",
   "language": "python",
   "name": "python3"
  },
  "language_info": {
   "codemirror_mode": {
    "name": "ipython",
    "version": 3
   },
   "file_extension": ".py",
   "mimetype": "text/x-python",
   "name": "python",
   "nbconvert_exporter": "python",
   "pygments_lexer": "ipython3",
   "version": "3.9.7"
  }
 },
 "nbformat": 4,
 "nbformat_minor": 4
}
