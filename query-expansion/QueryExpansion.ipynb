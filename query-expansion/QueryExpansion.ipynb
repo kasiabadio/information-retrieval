{
 "cells": [
  {
   "cell_type": "markdown",
   "metadata": {},
   "source": [
    "0) Just some imports"
   ]
  },
  {
   "cell_type": "code",
   "execution_count": 755,
   "metadata": {
    "collapsed": true
   },
   "outputs": [],
   "source": [
    "import re\n",
    "import math\n",
    "import numpy as np\n",
    "import common as cm\n",
    "from scipy import spatial"
   ]
  },
  {
   "cell_type": "markdown",
   "metadata": {},
   "source": [
    "# Query Expansion"
   ]
  },
  {
   "cell_type": "markdown",
   "metadata": {},
   "source": [
    "# 1) Simple search engine (for 3.0)"
   ]
  },
  {
   "cell_type": "markdown",
   "metadata": {},
   "source": [
    "1.1) Get acquainted with the below class. There are several TODOs. However, DO NOT complete them now. "
   ]
  },
  {
   "cell_type": "code",
   "execution_count": 756,
   "metadata": {},
   "outputs": [
    {
     "name": "stdout",
     "output_type": "stream",
     "text": [
      "['aaai', 'about', 'academic', 'access', 'acquired', 'acquisition', 'action', 'activity', 'actual', 'adaptive', 'add', 'advance', 'agricultural', 'aha', 'aim', 'alert', 'algorithm', 'all', 'analysis', 'and', 'announcement', 'answer', 'anyone', 'application', 'applied', 'apply', 'applying', 'approach', 'approache', 'april', 'archive', 'are', 'area', 'areas', 'article', 'artificial', 'asked', 'august', 'author', 'automated', 'automatically', 'autonomous', 'available', 'awards', 'backend', 'backgammon', 'baldi', 'based', 'basic', 'bayesian']\n"
     ]
    }
   ],
   "source": [
    "class Dictionary:\n",
    "    def __init__(self):\n",
    "        ### keeps unique terms (SORTED!)\n",
    "        self.terms = self.loadTerms(\"terms.txt\")\n",
    "        self.idfs = [] ### IDF coefficients\n",
    "        \n",
    "        self.corM = [] ### a correlation matrix\n",
    "        self.corM_A = [] ### helpful matrices\n",
    "        self.corM_A_norm = []\n",
    "        self.corM_transposed = []\n",
    "        self.corM_final = []\n",
    "        \n",
    "        self.idfs_dict = {}\n",
    "        \n",
    "    ### load terms\n",
    "    def loadTerms(self, fileName):\n",
    "        file = open(fileName,'r', encoding='utf-8-sig')\n",
    "        k = [self.proc(s) for s in file.readlines()]\n",
    "        k.sort()\n",
    "        return k\n",
    "\n",
    "    ### ignore it\n",
    "    def proc(self, s):\n",
    "        if s[-1] == '\\n': return s[:-1]\n",
    "        else: return s\n",
    "    \n",
    "    ### How common is word across a set of documents\n",
    "    ### IDF = log(N / df(w)); N - total number of documents, df(w) - frequency of documents containing word 'w'\n",
    "    def computeIDFs(self, documents):\n",
    "        \n",
    "        self.idfs = []\n",
    "        N = len(documents)\n",
    "        df = []\n",
    "        for i, term in enumerate(self.terms):\n",
    "            df.append(0)\n",
    "            for document in documents:\n",
    "                found = False\n",
    "                for token in document.tokens:\n",
    "                    if token == term and not found:\n",
    "                        df[i] += 1\n",
    "                        found = True\n",
    "                    \n",
    "        for freq in df:\n",
    "            self.idfs.append(math.log10(N / freq))\n",
    "            \n",
    "        for term, idf in zip(self.terms, self.idfs):\n",
    "            self.idfs_dict[term] = idf \n",
    "\n",
    "\n",
    "    def computeCorM(self, documents):\n",
    "        for i in range(len(self.terms)):\n",
    "            any = 0\n",
    "            tab = []\n",
    "            for j in range(len(documents)):\n",
    "                tab.append(0)\n",
    "                tab[j] = len([term for term in documents[j].tokens if term == self.terms[i]])\n",
    "            self.corM.append(tab)\n",
    "            \n",
    "        for i in range(len(self.corM)):\n",
    "            sum = 0\n",
    "            for j in range(len(self.corM[i])):\n",
    "                sum += math.pow(self.corM[i][j], 2)\n",
    "            sum = math.sqrt(sum)\n",
    "            for j in range(len(self.corM[i])):\n",
    "                self.corM[i][j] /= sum \n",
    "        \n",
    "        transM = np.transpose(self.corM)\n",
    "        self.corM = np.matmul(self.corM, transM)\n",
    "        for i in range(len(self.corM)):\n",
    "            self.corM[i][i] = -1\n",
    "        \n",
    "    def printChosenMatrix(self, chosenMatrix):    \n",
    "        \n",
    "        print(\"corM:\", end=\"\\n\")\n",
    "        for row in self.corM:\n",
    "            print(row, end=\"\\n\")       \n",
    "                    \n",
    "                     \n",
    "                     \n",
    "### SOME DEBUG\n",
    "dictionary = Dictionary()\n",
    "print(dictionary.terms[:50])"
   ]
  },
  {
   "cell_type": "markdown",
   "metadata": {},
   "source": [
    "1.2) Load files: here we load some example collection of documents. RAW_DOCUMENTS = just strings. Check if the documents are loaded correctly (e.g., print RAW_DOCUMENTS[0])"
   ]
  },
  {
   "cell_type": "code",
   "execution_count": 757,
   "metadata": {},
   "outputs": [
    {
     "name": "stdout",
     "output_type": "stream",
     "text": [
      "David W. Aha:  Machine Learning Page\n",
      " Machine Learning Resources. Suggestions welcome. ... (WizRule); ZDM Scientific\n",
      " Ltd. Conference Announcements. Courses on Machine Learning. Data Repositories. ... \n",
      " Description: Comprehensive machine learning resources from Applications to Tutorials.\n",
      "\n"
     ]
    }
   ],
   "source": [
    "RAW_DOCUMENTS = cm.loadDocuments(\"documents.txt\")\n",
    "### SOME DEBUG\n",
    "print(RAW_DOCUMENTS[0])"
   ]
  },
  {
   "cell_type": "code",
   "execution_count": 758,
   "metadata": {},
   "outputs": [
    {
     "name": "stdout",
     "output_type": "stream",
     "text": [
      "['david', 'aha', 'machine', 'learning', 'page', 'machine', 'learning', 'resource', 'suggestion', 'welcome', 'wizrule', 'zdm', 'scientific', 'ltd', 'conference', 'announcement', 'course', 'machine', 'learning', 'data', 'repository', 'description', 'comprehensive', 'machine', 'learning', 'resource', 'from', 'application', 'tutorials']\n"
     ]
    }
   ],
   "source": [
    "### SOME DEBUG, JUST RUN; check if (a) common.py is imported correctly and (b) \n",
    "### tokens are correctly derived from some document (e.g., RAW_DOCUMENTS[0])\n",
    "print(cm.simpleTextProcessing(RAW_DOCUMENTS[0], re))"
   ]
  },
  {
   "cell_type": "markdown",
   "metadata": {},
   "source": [
    "1.3) Get acquainted with the below class. "
   ]
  },
  {
   "cell_type": "code",
   "execution_count": 759,
   "metadata": {
    "collapsed": true
   },
   "outputs": [],
   "source": [
    "class Document:\n",
    "    def __init__(self, doc_id, raw_document, dictionary):\n",
    "        self.doc_id = doc_id ### DOC ID, simply 0,1,2,3....\n",
    "        self.raw_document = raw_document ### raw data, i.e., string data\n",
    "        self.dictionary = dictionary # reference to the dictionary\n",
    "        \n",
    "        ### DOCUMENT REPRESENTATIONS\n",
    "        self.tokens = cm.simpleTextProcessing(raw_document, re) ### get terms\n",
    "        self.bow = [] # Bag Of Words (BOW - number of term occurences)\n",
    "        self.tf = [] # TF representation\n",
    "        self.tf_idf = [] # TF-IDF representation\n",
    "        \n",
    "        self.bow_lenght = 0\n",
    "        self.bow_dict = {}\n",
    "        self.tf_dict = {}\n",
    "        self.tf_idf_dict = {}\n",
    "\n",
    "    ### complete this method; it should compute a BOW representation\n",
    "    def computeBOW_Representation(self):\n",
    "        \n",
    "        for term in self.dictionary.terms:\n",
    "            self.bow_dict[term] = 0\n",
    "            \n",
    "        for token in self.tokens:\n",
    "            if token in self.bow_dict:\n",
    "                self.bow_dict[token] += 1\n",
    "        \n",
    "        self.bow = self.bow_dict.items()\n",
    "        self.bow_lenght = len(self.bow)\n",
    "        \n",
    "        \n",
    "    ### complete this method; it should compute a TF representation\n",
    "    ### el: (number of times t occurs in d / total number of terms in d)\n",
    "    def computeTF_Representation(self):\n",
    "        denominator = self.bow_lenght\n",
    "        for term in self.bow:\n",
    "            self.tf.append(term[1] / denominator)\n",
    "            self.tf_dict[term[0]] = term[1] / denominator\n",
    "            \n",
    "    ### complete this method; it should compute a TFxIDF representation \n",
    "    ### (important: it should not be run before dictionary.idfs are not computed!)\n",
    "    ### TFxIDF(t,d,D) = TF(t,d) * IDF(t,D)\n",
    "    def computeTF_IDF_Representation(self):\n",
    "        for term0, term1 in self.tf_dict.items():\n",
    "            self.tf_idf.append(term1*self.dictionary.idfs_dict[term0])\n",
    "            self.tf_idf_dict[term0] = term1*self.dictionary.idfs_dict[term0]\n",
    "                     \n",
    "    def computeRepresentations(self):\n",
    "        self.computeBOW_Representation()\n",
    "        self.computeTF_Representation()\n",
    "        self.computeTF_IDF_Representation()\n",
    "    \n",
    "documents = [Document(i, RAW_DOCUMENTS[i], dictionary) for i in range(len(RAW_DOCUMENTS))]\n"
   ]
  },
  {
   "cell_type": "markdown",
   "metadata": {},
   "source": [
    "1.4) Compute IDFs here"
   ]
  },
  {
   "cell_type": "code",
   "execution_count": 760,
   "metadata": {},
   "outputs": [
    {
     "name": "stdout",
     "output_type": "stream",
     "text": [
      "Least common words:  [['working', 1.9444826721501687], ['www', 1.9444826721501687], ['york', 1.9444826721501687], ['young', 1.9444826721501687], ['zdm', 1.9444826721501687]] \n",
      "\n",
      "Most common words:  [['learning', 0.009984220906600923], ['machine', 0.009984220906600923], ['the', 0.1962946451439682], ['and', 0.3212333817522682], ['description', 0.3881801713828814]] \n",
      "\n"
     ]
    }
   ],
   "source": [
    "### COMPUTE IDFS HERE (FINISH THE PROPER METHOD OF THE DICTIONARY CLASS - DO NOT FORGET TO RE-RUN THE CELL)\n",
    "dictionary.computeIDFs(documents)\n",
    "\n",
    "### SOME DEBUG\n",
    "res = [[dictionary.terms[i], dictionary.idfs[i]] for i in range(len(dictionary.terms))]\n",
    "res.sort(key = lambda x: x[1])\n",
    "\n",
    "# LEAST COMMON WORDS - HIGH IDF\n",
    "print(\"Least common words: \", res[-5:], \"\\n\")\n",
    "\n",
    "# MOST COMMON WORDS - LOW IDF\n",
    "print(\"Most common words: \", res[:5], \"\\n\")"
   ]
  },
  {
   "cell_type": "markdown",
   "metadata": {},
   "source": [
    "1.5) Compute the document representations (for each document run computeRepresentations())"
   ]
  },
  {
   "cell_type": "code",
   "execution_count": 761,
   "metadata": {},
   "outputs": [
    {
     "name": "stdout",
     "output_type": "stream",
     "text": [
      "('learning', 4)\n",
      "('machine', 4)\n"
     ]
    }
   ],
   "source": [
    "for d in documents: \n",
    "    d.computeRepresentations()\n",
    "    \n",
    "### SOME DEBUG (you should see some 4s - which terms are these?)\n",
    "#print(documents[0].bow)\n",
    "for tuple in documents[0].bow:\n",
    "    if tuple[1] == 4:\n",
    "        print(tuple, end=\"\\n\")"
   ]
  },
  {
   "cell_type": "markdown",
   "metadata": {},
   "source": [
    "1.6) Finish the below method. It should compute and return a cosine similarity (v1 and v2 are two vectors - tf-idf representations)"
   ]
  },
  {
   "cell_type": "code",
   "execution_count": 762,
   "metadata": {
    "collapsed": true
   },
   "outputs": [],
   "source": [
    "# from numpy import dot\n",
    "# from numpy.linalg import norm\n",
    "def getSimilarity(v1, v2):\n",
    "    #return dot(v1, v2)/(norm(v1)*norm(v2))\n",
    "    return 1 - spatial.distance.cosine(v1, v2)"
   ]
  },
  {
   "cell_type": "markdown",
   "metadata": {},
   "source": [
    "1.7) Run the below script for different queries. getTopResults seeks for documents being the most similar/relevant to the query. Do you find the results satisfactory?"
   ]
  },
  {
   "cell_type": "code",
   "execution_count": 763,
   "metadata": {
    "collapsed": true
   },
   "outputs": [],
   "source": [
    "#query = \"machine learning\"\n",
    "#query = \"academic research\"\n",
    "#query = \"international conference\"\n",
    "query = \"international conference washington\""
   ]
  },
  {
   "cell_type": "code",
   "execution_count": 764,
   "metadata": {},
   "outputs": [
    {
     "name": "stdout",
     "output_type": "stream",
     "text": [
      "RANK = 1 WITH SIMILARITY = 0.47426307643971477 | DOC ID = 76\n",
      "ICML 2003\n",
      " The Twentieth International Conference on Machine Learning (ICML-2003).\n",
      " August 21-24, 2003 Washington, DC USA. The Twentieth International ... \n",
      "\n",
      "\n",
      "RANK = 2 WITH SIMILARITY = 0.4212440556739864 | DOC ID = 86\n",
      "International Conferences on Machine Learning and Applications\n",
      " The 2002 International Conferences on Machine Learning and Applications The\n",
      " 2003 International Conferences on Machine Learning and Applications. \n",
      "\n",
      "\n",
      "RANK = 3 WITH SIMILARITY = 0.283795696788981 | DOC ID = 19\n",
      "1998 International Machine Learning Conference\n",
      " (larger version of cover). The Fifteenth International Conference on Machine Learning.\n",
      " The on-line schedule for ICML-98 contains links to many of the papers. ... \n",
      " Description: The Fifteenth International Conference on Machine Learning. July 24-27, 1998 in Madison, Wisconsin.\n",
      "\n",
      "\n",
      "RANK = 4 WITH SIMILARITY = 0.20004541104625062 | DOC ID = 41\n",
      "ICML-2000\n",
      " Seventeenth International Conference on Machine Learning. Stanford University. ... Tutorials\n",
      " on Commercial Applications of Machine Learning and Data Mining [new]. ... \n",
      " Description: Seventeenth International Conference on Machine Learning. Stanford University June 29-July 2, 2000.\n",
      "\n",
      "\n",
      "RANK = 5 WITH SIMILARITY = 0.195603154983932 | DOC ID = 39\n",
      "ICML2002 - Sydney\n",
      " The Nineteenth International Conference on Machine Learning (ICML-2002). ... Previous\n",
      " meetings on machine learning: ICML-2001, ICML-2000, ICML-99 , ICML-98. ... \n",
      "\n",
      "\n"
     ]
    }
   ],
   "source": [
    "def getTopResults(query, documents, dictionary, similarity, top = 5):\n",
    "    # construct document which is made of query\n",
    "    qd = Document(-1, query, dictionary)\n",
    "    qd.computeRepresentations()\n",
    "    \n",
    "    # in each of documents check cosine similarity to query (here \"machine learning\")\n",
    "    ranks = [[d, getSimilarity(d.tf_idf, qd.tf_idf)] for d in documents]\n",
    "    ranks.sort(key=lambda x: -x[1])\n",
    "    \n",
    "    for i in range(top):\n",
    "        print(\"RANK = \" + str(i+1) + \" WITH SIMILARITY = \" + str(ranks[i][1]) + \" | DOC ID = \" + str(ranks[i][0].doc_id))\n",
    "        print(ranks[i][0].raw_document)\n",
    "        print(\"\")\n",
    "\n",
    "getTopResults(query, documents, dictionary, getSimilarity, top = 5)"
   ]
  },
  {
   "cell_type": "markdown",
   "metadata": {},
   "source": [
    "# 2) Query expansion"
   ]
  },
  {
   "cell_type": "markdown",
   "metadata": {},
   "source": [
    "## 2.1) Correlation matrix (for 3.5)"
   ]
  },
  {
   "cell_type": "markdown",
   "metadata": {},
   "source": [
    "2.1.1) Finish dictionary.computeCorM method (see class Dictionary). It should generate a correlation matrix (correlation between terms).\n",
    "\n",
    "IMPORTANT: although corM[ i ][ i ] (for each i) should be 1.0, set it to -1.0"
   ]
  },
  {
   "cell_type": "code",
   "execution_count": 765,
   "metadata": {},
   "outputs": [
    {
     "name": "stdout",
     "output_type": "stream",
     "text": [
      "[[-1.          0.          0.         ...  0.          0.\n",
      "   0.        ]\n",
      " [ 0.         -1.          0.         ...  0.18898224  0.\n",
      "   0.        ]\n",
      " [ 0.          0.         -1.         ...  0.          0.\n",
      "   0.        ]\n",
      " ...\n",
      " [ 0.          0.18898224  0.         ... -1.          0.\n",
      "   0.        ]\n",
      " [ 0.          0.          0.         ...  0.         -1.\n",
      "   0.        ]\n",
      " [ 0.          0.          0.         ...  0.          0.\n",
      "  -1.        ]]\n"
     ]
    }
   ],
   "source": [
    "### COMPLETE THE computeCorM METHOD (see one of the first cells)\n",
    "dictionary.computeCorM(documents)\n",
    "#\"corM_A\"\n",
    "#\"corM_transposed\"\n",
    "#\"corM\"\n",
    "print(dictionary.corM)\n"
   ]
  },
  {
   "cell_type": "markdown",
   "metadata": {},
   "source": [
    "2.1.2) Finish the below method. For each term in the query (you must parse the query, see getTopResults() method), find another term which is the most correlated with the input term."
   ]
  },
  {
   "cell_type": "code",
   "execution_count": 766,
   "metadata": {},
   "outputs": [
    {
     "name": "stdout",
     "output_type": "stream",
     "text": [
      "international 0.8740200053736313\n",
      "application 0.5093716319736107\n",
      "fifteenth 0.4931969619160719\n",
      "schedule 0.4931969619160719\n",
      "june 0.4745789978762496\n",
      "european 0.40269363312841466\n",
      "july 0.3487429162314578\n",
      "larger 0.3487429162314578\n",
      "madison 0.3487429162314578\n",
      "many 0.3487429162314578\n"
     ]
    }
   ],
   "source": [
    "#query = \"machine\"\n",
    "#query = \"algorithm\"\n",
    "# query = \"learning\"\n",
    "query = \"conference\"\n",
    "# query = \"research\"\n",
    "# query = \"concept\"\n",
    "\n",
    "def suggestKeywords(query, dictionary):\n",
    "    \n",
    "    qd = Document(-1, query, dictionary)\n",
    "    qd.computeRepresentations()\n",
    "    \n",
    "    ranking = []\n",
    "    i = 0\n",
    "    # check row for query in final corM matrix\n",
    "    for correlation in dictionary.corM[dictionary.terms.index(query)]:\n",
    "        ranking.append((dictionary.terms[i], correlation))\n",
    "        i += 1\n",
    "        \n",
    "    ranking.sort(key=lambda x: -x[1])\n",
    "    \n",
    "    for i in ranking[:10]:\n",
    "        print(i[0], i[1])\n",
    "    \n",
    "\n",
    "suggestKeywords(query, dictionary)"
   ]
  },
  {
   "cell_type": "markdown",
   "metadata": {},
   "source": [
    "# 2.2) Rocchio algorithm (for 4.0)\n",
    "- find a query that maximises similarity with the set of relevant documents, while minimising similarity with the set of non relevant documents  \n",
    "- a method for updating a query vector - vector space model must be used to represent documents (TF-IDF vectors)\n",
    "\n",
    "- linear combination of:\n",
    "    * q\n",
    "    * D_r\n",
    "    * D_nr\n",
    "    \n",
    "- new q_m: \n",
    "    * alfa, beta, gamma are weights\n",
    "    * beta (positive feedback) > gamma (negative feedback)\n",
    "    * user assessed many documents? -> beta, gamma should be high"
   ]
  },
  {
   "cell_type": "markdown",
   "metadata": {},
   "source": [
    "$\\overrightarrow{q_{m}} = \\alpha \\overrightarrow{q} + \\left(\\beta \\cdot \\dfrac{1}{|D_{r}|} \\sum_{\\overrightarrow{D_j} \\in D_{r}} \\overrightarrow{D_j} \\right) - \\left(\\gamma \\cdot \\dfrac{1}{|D_{nr}|} \\sum_{\\overrightarrow{D_j} \\in D_{nr}} \\overrightarrow{D_j} \\right)$"
   ]
  },
  {
   "cell_type": "markdown",
   "metadata": {},
   "source": [
    "2.2.1) \n",
    "- Firstly, run the below code.  \n",
    "- Observe the results.  \n",
    "- Assume that we do not like the first and the second result (Docs 63 and 77).  \n",
    "- However, assume that docs 29 and 36 are satisfactory. Now, modfify the method.  \n",
    "- It should alter the query vector, according to Rocchio algorithm.   \n",
    "- Check the result for the above considered scenario (relevant docs = 29 and 36; not relevant = 63 and 77).   \n",
    "- Check the results for different values of alpha, beta, and gamma coefficients.  "
   ]
  },
  {
   "cell_type": "code",
   "execution_count": 771,
   "metadata": {},
   "outputs": [
    {
     "name": "stdout",
     "output_type": "stream",
     "text": [
      "RANK = 1 WITH SIMILARITY = 0.017145022655810083 | DOC ID = 63\n",
      "AI / Machine Learning Resources\n",
      " AI / Machine Learning Resources. General Machine Learning. The Journal\n",
      " of Machine Learning. MLnet Machine Learning Archive at GMD. The ... \n",
      "\n",
      "\n",
      "RANK = 2 WITH SIMILARITY = 0.012801913843626722 | DOC ID = 77\n",
      "Machine Learning\n",
      " Machine Learning. Machine Learning Home Page (Editor) Machine Learning Home\n",
      " Page (Publisher) Machine Learning Online by Kluwer Academic Publishers: ... \n",
      "\n",
      "\n",
      "RANK = 3 WITH SIMILARITY = 0.012340729913628334 | DOC ID = 34\n",
      "Machine Learning\n",
      " Machine Learning. Related Sites. Machine Learning Resources courtesy\n",
      " of David Aha A Machine Learning Tutorial a good overview of the ... \n",
      "\n",
      "\n",
      "RANK = 4 WITH SIMILARITY = 0.011069910022798668 | DOC ID = 81\n",
      "Oxford University Machine Learning Group\n",
      " Machine Learning at the Computing Laboratory. ... Logic Programming and\n",
      " Learning and Intelligent Systems. Other Machine Learning Groups. ... \n",
      "\n",
      "\n",
      "RANK = 5 WITH SIMILARITY = 0.010455352603751189 | DOC ID = 62\n",
      "Open Directory - Computers: Artificial Intelligence: Machine ... \n",
      " ... David W. Aha: Machine Learning Page - Comprehensive machine learning\n",
      " resources from Applications to Tutorials. Machine Learning ... \n",
      "\n",
      "\n",
      "RANK = 6 WITH SIMILARITY = 0.009717895758309947 | DOC ID = 36\n",
      "Machine Learning Group\n",
      " [ Bristol CS | Index | Research | ML group | Student projects ] Machine\n",
      " Learning Research Group. Overview. The Machine Learning Research ... \n",
      " Description: Research on higher-order concept learning, inductive logic programming, multi-agent learning systems,...\n",
      "\n",
      "\n",
      "RANK = 7 WITH SIMILARITY = 0.0097138821102285 | DOC ID = 28\n",
      "Machine Learning\n",
      " 6.858/18.428: Machine Learning. Available Lecture Notes. ... Defining models for\n",
      " machine learning. Learning conjunctions in the mistake-bounded model. ... \n",
      "\n",
      "\n",
      "RANK = 8 WITH SIMILARITY = 0.009482776611745125 | DOC ID = 29\n",
      "Machine Learning\n",
      " 6.858/18.428: Machine Learning. ... This course deals with the following topics:\n",
      " Formal models of machine learning; Learning concepts from examples; ... \n",
      "\n",
      "\n",
      "RANK = 9 WITH SIMILARITY = 0.00922672700431848 | DOC ID = 20\n",
      "Machine Learning\n",
      " Machine Learning, THE ... Machine learning refers to a system capable of\n",
      " the autonomous acquisition and integration of knowledge. This ... \n",
      "\n",
      "\n",
      "RANK = 10 WITH SIMILARITY = 0.009217502327959592 | DOC ID = 7\n",
      "15-681 and 15-781 Machine Learning\n",
      " Machine Learning, 15:681 and 15:781, Fall 1998. ... This course covers the theory\n",
      " and practice of machine learning from a variety of perspectives. ... \n",
      "\n",
      "\n"
     ]
    }
   ],
   "source": [
    "def getTopResults_Rocchio(query, \n",
    "                          documents, \n",
    "                          dictionary, \n",
    "                          similarity, \n",
    "                          rel_docs = [29, 36],\n",
    "                          nrel_docs = [63, 77],\n",
    "                          alpha = 0.5,\n",
    "                          beta = 0.3,\n",
    "                          gamma = 0.2,\n",
    "                          top = 10):\n",
    "    \n",
    "    qd = Document(-1, query, dictionary)\n",
    "    qd.computeRepresentations()\n",
    "    \n",
    "    ##### MODIFY qd.tf_idf HERE\n",
    "    for key, value in qd.tf_idf_dict.items():\n",
    "        documents_rel = [documents[i].tf_idf_dict[key] for i in rel_docs]\n",
    "        documents_nrel = [documents[i].tf_idf_dict[key] for i in nrel_docs]\n",
    "        \n",
    "        alpha_fragment = alpha * value\n",
    "        beta_fragment = beta * (1/len(rel_docs)) * sum(documents_rel)\n",
    "        gamma_fragment = gamma * (1/len(nrel_docs)) * sum(documents_nrel)\n",
    "        \n",
    "        qd.tf_idf_dict[key] = alpha_fragment + beta_fragment - gamma_fragment\n",
    "    #####\n",
    "    \n",
    "    ranks = [[d, getSimilarity(d.tf_idf, qd.tf_idf)] for d in documents]\n",
    "    ranks.sort(key=lambda x: -x[1])\n",
    "    for i in range(top):\n",
    "        print(\"RANK = \" + str(i+1) + \" WITH SIMILARITY = \" + str(ranks[i][1]) + \" | DOC ID = \" + str(ranks[i][0].doc_id))\n",
    "        print(ranks[i][0].raw_document)\n",
    "        print(\"\")\n",
    "\n",
    "getTopResults_Rocchio(\"machine learning\", documents, dictionary, getSimilarity, top = 10)"
   ]
  },
  {
   "cell_type": "markdown",
   "metadata": {},
   "source": [
    "# 2.3) WordNet (for 5.0)"
   ]
  },
  {
   "cell_type": "markdown",
   "metadata": {},
   "source": [
    "2.3.1) Installation"
   ]
  },
  {
   "cell_type": "markdown",
   "metadata": {},
   "source": [
    "http://www.nltk.org/install.html\n",
    "\n",
    "import nltk \n",
    "\n",
    "nltk.download()\n",
    "\n",
    "https://www.nltk.org/data.html"
   ]
  },
  {
   "cell_type": "code",
   "execution_count": null,
   "metadata": {
    "collapsed": true
   },
   "outputs": [
    {
     "name": "stderr",
     "output_type": "stream",
     "text": [
      "[nltk_data] Downloading package wordnet to /home/kasia/nltk_data...\n",
      "[nltk_data]   Package wordnet is already up-to-date!\n",
      "[nltk_data] Downloading package omw-1.4 to /home/kasia/nltk_data...\n",
      "[nltk_data]   Unzipping corpora/omw-1.4.zip.\n"
     ]
    },
    {
     "data": {
      "text/plain": [
       "True"
      ]
     },
     "execution_count": 696,
     "metadata": {},
     "output_type": "execute_result"
    }
   ],
   "source": [
    "from nltk.corpus import wordnet as wn\n",
    "import nltk\n",
    "nltk.download('wordnet')\n",
    "nltk.download('omw-1.4')"
   ]
  },
  {
   "cell_type": "markdown",
   "metadata": {},
   "source": [
    "Definition: synset = (from wiki) (information science) A set of one or more synonyms that are interchangeable in some context without changing the truth value of the proposition in which they are embedded."
   ]
  },
  {
   "cell_type": "markdown",
   "metadata": {},
   "source": [
    "2.3.2) Display sysents for \"machine\""
   ]
  },
  {
   "cell_type": "code",
   "execution_count": null,
   "metadata": {},
   "outputs": [
    {
     "data": {
      "text/plain": [
       "[Synset('machine.n.01'),\n",
       " Synset('machine.n.02'),\n",
       " Synset('machine.n.03'),\n",
       " Synset('machine.n.04'),\n",
       " Synset('machine.n.05'),\n",
       " Synset('car.n.01'),\n",
       " Synset('machine.v.01'),\n",
       " Synset('machine.v.02')]"
      ]
     },
     "execution_count": 697,
     "metadata": {},
     "output_type": "execute_result"
    }
   ],
   "source": [
    "wn.synsets('machine')"
   ]
  },
  {
   "cell_type": "markdown",
   "metadata": {},
   "source": [
    "2.3.3) Display all definitions (.definition()) for synsets (machine)"
   ]
  },
  {
   "cell_type": "code",
   "execution_count": null,
   "metadata": {},
   "outputs": [
    {
     "name": "stdout",
     "output_type": "stream",
     "text": [
      "any mechanical or electrical device that transmits or modifies energy to perform or assist in the performance of human tasks\n",
      "an efficient person\n",
      "an intricate organization that accomplishes its goals efficiently\n",
      "a device for overcoming resistance at one point by applying force at some other point\n",
      "a group that controls the activities of a political party\n",
      "a motor vehicle with four wheels; usually propelled by an internal combustion engine\n",
      "turn, shape, mold, or otherwise finish by machinery\n",
      "make by machinery\n"
     ]
    }
   ],
   "source": [
    "for synset in wn.synsets('machine'):\n",
    "    print(synset.definition(), end=\"\\n\")"
   ]
  },
  {
   "cell_type": "markdown",
   "metadata": {},
   "source": [
    "2.3.4) For each synset (machine), display its hypernym (a word with a broad meaning constituting a category into which words with more specific meanings fall; a superordinate. For example, colour is a hypernym of red)."
   ]
  },
  {
   "cell_type": "code",
   "execution_count": null,
   "metadata": {},
   "outputs": [
    {
     "name": "stdout",
     "output_type": "stream",
     "text": [
      "[Synset('device.n.01')]\n",
      "[Synset('person.n.01')]\n",
      "[Synset('organization.n.01')]\n",
      "[Synset('mechanical_device.n.01')]\n",
      "[Synset('organization.n.01')]\n",
      "[Synset('motor_vehicle.n.01')]\n",
      "[Synset('shape.v.02')]\n",
      "[Synset('produce.v.02')]\n"
     ]
    }
   ],
   "source": [
    "for synset in wn.synsets('machine'):\n",
    "    print(synset.hypernyms(), end=\"\\n\")"
   ]
  }
 ],
 "metadata": {
  "kernelspec": {
   "display_name": "Python 3",
   "language": "python",
   "name": "python3"
  },
  "language_info": {
   "codemirror_mode": {
    "name": "ipython",
    "version": 3
   },
   "file_extension": ".py",
   "mimetype": "text/x-python",
   "name": "python",
   "nbconvert_exporter": "python",
   "pygments_lexer": "ipython3",
   "version": "3.9.7"
  }
 },
 "nbformat": 4,
 "nbformat_minor": 2
}
